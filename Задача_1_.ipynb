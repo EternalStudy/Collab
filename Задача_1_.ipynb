{
  "nbformat": 4,
  "nbformat_minor": 0,
  "metadata": {
    "colab": {
      "provenance": [],
      "authorship_tag": "ABX9TyM9T6bvj92An5RSboUXCbgc",
      "include_colab_link": true
    },
    "kernelspec": {
      "name": "python3",
      "display_name": "Python 3"
    },
    "language_info": {
      "name": "python"
    }
  },
  "cells": [
    {
      "cell_type": "markdown",
      "metadata": {
        "id": "view-in-github",
        "colab_type": "text"
      },
      "source": [
        "<a href=\"https://colab.research.google.com/github/EternalStudy/Collab/blob/main/%D0%97%D0%B0%D0%B4%D0%B0%D1%87%D0%B0_1_.ipynb\" target=\"_parent\"><img src=\"https://colab.research.google.com/assets/colab-badge.svg\" alt=\"Open In Colab\"/></a>"
      ]
    },
    {
      "cell_type": "code",
      "execution_count": 20,
      "metadata": {
        "id": "2kcBZDl-LKfA"
      },
      "outputs": [],
      "source": [
        "import pandas as pd"
      ]
    },
    {
      "cell_type": "markdown",
      "source": [],
      "metadata": {
        "id": "Jt3oSO9lYUSs"
      }
    },
    {
      "cell_type": "code",
      "source": [
        "\"Найдите, какая область центрального федерального округа имела наибольшую численность студентов вечерней формы обучения в 2015 году.\"\n",
        "df = pd.read_csv('/content/data20152019.csv', sep= ';', encoding='cp1251')\n",
        "df= pd.DataFrame(df,columns = ['Субъект РФ','Численность студентов очно-заочная (вечерняя) форма, человек, 2015'])\n",
        "df.iloc[2: 19, :5].max()\n",
        "\n"
      ],
      "metadata": {
        "colab": {
          "base_uri": "https://localhost:8080/"
        },
        "id": "susn9Rhe_Wzd",
        "outputId": "a7020456-7263-4886-a73a-31edbed964cf"
      },
      "execution_count": 78,
      "outputs": [
        {
          "output_type": "execute_result",
          "data": {
            "text/plain": [
              "Субъект РФ                                                               Ярославская область\n",
              "Численность студентов очно-заочная (вечерняя) форма, человек, 2015                      4095\n",
              "dtype: object"
            ]
          },
          "metadata": {},
          "execution_count": 78
        }
      ]
    }
  ]
}